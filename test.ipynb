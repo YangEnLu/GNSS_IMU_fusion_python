{
 "cells": [
  {
   "cell_type": "code",
   "execution_count": 2,
   "metadata": {},
   "outputs": [],
   "source": [
    "import sys\n",
    "import os\n",
    "import numpy as np\n",
    "import numpy.matlib as npm\n",
    "from time import perf_counter\n",
    "\n",
    "# if __name__ == '__main__':\n",
    "from src.common.global_constants import glc, gls, index, obsd\n",
    "from src.gui.GNSSIMUCfg import OpenUI\n",
    "from src.readfile.decode_cfg import decode_cfg\n",
    "from src.readfile.decode_rnxh import decode_rnxh\n",
    "from src.readfile.decode_obsh import decode_obsh\n",
    "from src.readfile.readrnxobs import readrnxobs\n",
    "from src.main_func.exepos import exepos\n",
    "\n",
    "\n",
    "# Open input UI\n",
    "# opt,file,gui_flag = OpenUI()"
   ]
  },
  {
   "cell_type": "code",
   "execution_count": 14,
   "metadata": {},
   "outputs": [
    {
     "data": {
      "text/plain": [
       "array([[1., 2., 3.],\n",
       "       [0., 0., 0.],\n",
       "       [0., 0., 0.]])"
      ]
     },
     "execution_count": 14,
     "metadata": {},
     "output_type": "execute_result"
    }
   ],
   "source": [
    "import numpy as np\n",
    "import numpy.matlib as npm\n",
    "A = np.zeros((3,3))\n",
    "A[0,:]=[1,2,3]\n"
   ]
  },
  {
   "cell_type": "code",
   "execution_count": 4,
   "metadata": {},
   "outputs": [
    {
     "name": "stdout",
     "output_type": "stream",
     "text": [
      "Info:reading obs file D:/GINav/data/data_cpt/cpt0870.19o\n"
     ]
    }
   ],
   "source": [
    "rtk = gls().rtk\n",
    "# read input file\n",
    "obsr = gls().obs\n",
    "obsb = gls().obs\n",
    "nav = gls().nav\n",
    "imu = gls().imu\n",
    "obsr,nav = readrnxobs(obsr,nav,opt,file.obsr)"
   ]
  },
  {
   "cell_type": "code",
   "execution_count": 3,
   "metadata": {},
   "outputs": [],
   "source": [
    "# start_time = perf_counter()\n",
    "# opt = gls().default_opt\n",
    "# error = decode_cfg(opt, cfg_filename)\n",
    "# end_time = perf_counter()\n",
    "# execution_time = end_time - start_time\n",
    "# print(f\"Time elapsed: {execution_time:.4f} seconds\")"
   ]
  },
  {
   "cell_type": "code",
   "execution_count": 4,
   "metadata": {},
   "outputs": [],
   "source": [
    "# print(opt.filepath)\n",
    "# print(\"time start: \"+opt.ts)\n",
    "# print(\"time end: \"+opt.te)\n",
    "# print(\"satellite system: \"+\"\".join(opt.navsys))\n",
    "# print(\"elevation mask: \"+f\"{opt.elmin:.4f} rad\")\n",
    "# print(np.reshape(opt.antdel[1,:],(3,1)))\n",
    "# # print(file.sp3)"
   ]
  },
  {
   "cell_type": "code",
   "execution_count": 5,
   "metadata": {},
   "outputs": [],
   "source": [
    "# def create_subclass(cls):\n",
    "#     class SubClass(cls):\n",
    "#         def __init__(self):\n",
    "#             super().__init__()\n",
    "#             self.y = 10\n",
    "#         def __str__(self):\n",
    "#             return f'SubClass(x={self.x}, y={self.y})'\n",
    "#     return SubClass\n",
    "\n",
    "# class MyClass:\n",
    "#     def __init__(self):\n",
    "#         self.x = 5\n",
    "#     def __str__(self):\n",
    "#         return f'MyClass(x={self.x})'\n",
    "\n",
    "# MySubClass = create_subclass(MyClass)\n",
    "# obj = MySubClass()\n",
    "# print(obj)\n"
   ]
  },
  {
   "cell_type": "code",
   "execution_count": 6,
   "metadata": {},
   "outputs": [],
   "source": [
    "# from typing import Type, TypeVar\n",
    "\n",
    "\n",
    "# class Vehicle:\n",
    "#     def __init__(self):\n",
    "#         print(\"Creating a %s\" % self.__class__.__name__)\n",
    "\n",
    "#     def move(self):\n",
    "#         print(\"This %s is moving…\" % self.__class__.__name__)\n",
    "\n",
    "# TVehicle = TypeVar(\"TVehicle\", bound=Vehicle)\n",
    "\n",
    "# class Car(Vehicle):\n",
    "#     def honk(self) -> None:\n",
    "#         print(\"tuuuuut\")\n",
    "\n",
    "# class Bike(Vehicle):\n",
    "#     def ring(self) -> None:\n",
    "#         print(\"ring\")\n",
    "\n",
    "# class Dog:\n",
    "#     def bark(self) -> None:\n",
    "#         print(\"woof!\")\n",
    "\n",
    "\n",
    "# def move(v: Vehicle) -> None:\n",
    "#     v.move()\n",
    "\n",
    "# def instantiate(class_to_instantiate: Type[TVehicle]) -> TVehicle:\n",
    "#     return class_to_instantiate()  # create an instance\n",
    "\n",
    "# # move(Bike())\n",
    "# # move(Car())\n",
    "\n",
    "# instantiate(Bike).ring()\n",
    "# instantiate(Car).honk()\n",
    "# instantiate(Dog).bark()\n"
   ]
  }
 ],
 "metadata": {
  "kernelspec": {
   "display_name": "gnss_imu_fusion",
   "language": "python",
   "name": "python3"
  },
  "language_info": {
   "codemirror_mode": {
    "name": "ipython",
    "version": 3
   },
   "file_extension": ".py",
   "mimetype": "text/x-python",
   "name": "python",
   "nbconvert_exporter": "python",
   "pygments_lexer": "ipython3",
   "version": "3.9.15"
  },
  "orig_nbformat": 4,
  "vscode": {
   "interpreter": {
    "hash": "b6c57829a6c314403a3ae6f216b3d7ec603015de159d29feb43c11d8b41eaa95"
   }
  }
 },
 "nbformat": 4,
 "nbformat_minor": 2
}
